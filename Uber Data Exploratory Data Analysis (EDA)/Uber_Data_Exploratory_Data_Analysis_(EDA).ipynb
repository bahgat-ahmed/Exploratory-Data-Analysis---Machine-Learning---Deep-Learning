{
  "nbformat": 4,
  "nbformat_minor": 0,
  "metadata": {
    "colab": {
      "name": "Uber Data Exploratory Data Analysis (EDA).ipynb",
      "provenance": [],
      "authorship_tag": "ABX9TyPgzXOP7Y7lKaFIDY8EQyuM",
      "include_colab_link": true
    },
    "kernelspec": {
      "name": "python3",
      "display_name": "Python 3"
    },
    "language_info": {
      "name": "python"
    }
  },
  "cells": [
    {
      "cell_type": "markdown",
      "metadata": {
        "id": "view-in-github",
        "colab_type": "text"
      },
      "source": [
        "<a href=\"https://colab.research.google.com/github/bahgat-ahmed/Exploratory-Data-Analysis---Machine-Learning---Deep-Learning/blob/main/Uber%20Data%20Exploratory%20Data%20Analysis%20(EDA)/Uber_Data_Exploratory_Data_Analysis_(EDA).ipynb\" target=\"_parent\"><img src=\"https://colab.research.google.com/assets/colab-badge.svg\" alt=\"Open In Colab\"/></a>"
      ]
    },
    {
      "cell_type": "markdown",
      "metadata": {
        "id": "dqfkDW9e7Lru"
      },
      "source": [
        "# 1 . Import Libraries"
      ]
    },
    {
      "cell_type": "code",
      "metadata": {
        "id": "0DxkUHsp51LN"
      },
      "source": [
        "import numpy as np\n",
        "import pandas as pd\n",
        "import matplotlib.pyplot as plt\n",
        "import seaborn as sns\n",
        "# set the default seaborn style for our plots\n",
        "sns.set()\n",
        "\n",
        "import scipy.stats as stats\n",
        "import copy\n",
        "import warnings\n",
        "\n",
        "warnings.filterwarnings('ignore')\n",
        "# graphics in retina format\n",
        "%config InlineBackend.figure_format = 'retina'"
      ],
      "execution_count": 1,
      "outputs": []
    },
    {
      "cell_type": "markdown",
      "metadata": {
        "id": "5I5aDtJa7PXE"
      },
      "source": [
        "# 2. Read Data"
      ]
    },
    {
      "cell_type": "code",
      "metadata": {
        "colab": {
          "base_uri": "https://localhost:8080/",
          "height": 204
        },
        "id": "jcBTcY-u7IXx",
        "outputId": "aa455aeb-0d67-4c2d-8ab7-cfa3e829d2eb"
      },
      "source": [
        "uber_df = pd.read_csv('Uber Request Data.csv')\n",
        "uber_df.head()"
      ],
      "execution_count": 2,
      "outputs": [
        {
          "output_type": "execute_result",
          "data": {
            "text/html": [
              "<div>\n",
              "<style scoped>\n",
              "    .dataframe tbody tr th:only-of-type {\n",
              "        vertical-align: middle;\n",
              "    }\n",
              "\n",
              "    .dataframe tbody tr th {\n",
              "        vertical-align: top;\n",
              "    }\n",
              "\n",
              "    .dataframe thead th {\n",
              "        text-align: right;\n",
              "    }\n",
              "</style>\n",
              "<table border=\"1\" class=\"dataframe\">\n",
              "  <thead>\n",
              "    <tr style=\"text-align: right;\">\n",
              "      <th></th>\n",
              "      <th>Request id</th>\n",
              "      <th>Pickup point</th>\n",
              "      <th>Driver id</th>\n",
              "      <th>Status</th>\n",
              "      <th>Request timestamp</th>\n",
              "      <th>Drop timestamp</th>\n",
              "    </tr>\n",
              "  </thead>\n",
              "  <tbody>\n",
              "    <tr>\n",
              "      <th>0</th>\n",
              "      <td>619</td>\n",
              "      <td>Airport</td>\n",
              "      <td>1.0</td>\n",
              "      <td>Trip Completed</td>\n",
              "      <td>11/7/2016 11:51</td>\n",
              "      <td>11/7/2016 13:00</td>\n",
              "    </tr>\n",
              "    <tr>\n",
              "      <th>1</th>\n",
              "      <td>867</td>\n",
              "      <td>Airport</td>\n",
              "      <td>1.0</td>\n",
              "      <td>Trip Completed</td>\n",
              "      <td>11/7/2016 17:57</td>\n",
              "      <td>11/7/2016 18:47</td>\n",
              "    </tr>\n",
              "    <tr>\n",
              "      <th>2</th>\n",
              "      <td>1807</td>\n",
              "      <td>City</td>\n",
              "      <td>1.0</td>\n",
              "      <td>Trip Completed</td>\n",
              "      <td>12/7/2016 9:17</td>\n",
              "      <td>12/7/2016 9:58</td>\n",
              "    </tr>\n",
              "    <tr>\n",
              "      <th>3</th>\n",
              "      <td>2532</td>\n",
              "      <td>Airport</td>\n",
              "      <td>1.0</td>\n",
              "      <td>Trip Completed</td>\n",
              "      <td>12/7/2016 21:08</td>\n",
              "      <td>12/7/2016 22:03</td>\n",
              "    </tr>\n",
              "    <tr>\n",
              "      <th>4</th>\n",
              "      <td>3112</td>\n",
              "      <td>City</td>\n",
              "      <td>1.0</td>\n",
              "      <td>Trip Completed</td>\n",
              "      <td>13-07-2016 08:33:16</td>\n",
              "      <td>13-07-2016 09:25:47</td>\n",
              "    </tr>\n",
              "  </tbody>\n",
              "</table>\n",
              "</div>"
            ],
            "text/plain": [
              "   Request id Pickup point  ...    Request timestamp       Drop timestamp\n",
              "0         619      Airport  ...      11/7/2016 11:51      11/7/2016 13:00\n",
              "1         867      Airport  ...      11/7/2016 17:57      11/7/2016 18:47\n",
              "2        1807         City  ...       12/7/2016 9:17       12/7/2016 9:58\n",
              "3        2532      Airport  ...      12/7/2016 21:08      12/7/2016 22:03\n",
              "4        3112         City  ...  13-07-2016 08:33:16  13-07-2016 09:25:47\n",
              "\n",
              "[5 rows x 6 columns]"
            ]
          },
          "metadata": {
            "tags": []
          },
          "execution_count": 2
        }
      ]
    },
    {
      "cell_type": "markdown",
      "metadata": {
        "id": "_kF1vL7D7ZoK"
      },
      "source": [
        "# 3. Detect Missing Data & Do any Transformation"
      ]
    },
    {
      "cell_type": "markdown",
      "metadata": {
        "id": "lIjGNxfxCXDQ"
      },
      "source": [
        "## 3.1 Describe Data"
      ]
    },
    {
      "cell_type": "code",
      "metadata": {
        "colab": {
          "base_uri": "https://localhost:8080/"
        },
        "id": "owLEdwnsECKU",
        "outputId": "45bce3ab-690c-4565-c1cb-7176e9a4f8a8"
      },
      "source": [
        "print(f\"Data Shape: {uber_df.shape}\")"
      ],
      "execution_count": 3,
      "outputs": [
        {
          "output_type": "stream",
          "text": [
            "Data Shape: (6745, 6)\n"
          ],
          "name": "stdout"
        }
      ]
    },
    {
      "cell_type": "markdown",
      "metadata": {
        "id": "e8jVgjvKCarw"
      },
      "source": [
        "**Expected output:**\n",
        "\n",
        "The data contains 1388 examples with 7 features with the following types:\n",
        "1. 1 integer feature\n",
        "2. 1 float feature\n",
        "3. 4 object features (2 strings & 2 datetime)"
      ]
    },
    {
      "cell_type": "code",
      "metadata": {
        "colab": {
          "base_uri": "https://localhost:8080/"
        },
        "id": "VeOZl85o7WIv",
        "outputId": "57264b1d-7320-480f-f701-cc1f9eeaef8f"
      },
      "source": [
        "uber_df.info()"
      ],
      "execution_count": 4,
      "outputs": [
        {
          "output_type": "stream",
          "text": [
            "<class 'pandas.core.frame.DataFrame'>\n",
            "RangeIndex: 6745 entries, 0 to 6744\n",
            "Data columns (total 6 columns):\n",
            " #   Column             Non-Null Count  Dtype  \n",
            "---  ------             --------------  -----  \n",
            " 0   Request id         6745 non-null   int64  \n",
            " 1   Pickup point       6745 non-null   object \n",
            " 2   Driver id          4095 non-null   float64\n",
            " 3   Status             6745 non-null   object \n",
            " 4   Request timestamp  6745 non-null   object \n",
            " 5   Drop timestamp     2831 non-null   object \n",
            "dtypes: float64(1), int64(1), object(4)\n",
            "memory usage: 316.3+ KB\n"
          ],
          "name": "stdout"
        }
      ]
    },
    {
      "cell_type": "markdown",
      "metadata": {
        "id": "ozAASWw-EV5h"
      },
      "source": [
        "Output is as expected. However, there is missing data in the **Driver id**, and **Drop timestamp** columns."
      ]
    },
    {
      "cell_type": "markdown",
      "metadata": {
        "id": "CjAd8sd4F0aY"
      },
      "source": [
        "## 3.2 Check missing values"
      ]
    },
    {
      "cell_type": "code",
      "metadata": {
        "colab": {
          "base_uri": "https://localhost:8080/",
          "height": 111
        },
        "id": "sqwdmrYvF5EM",
        "outputId": "c5c442e3-7650-454a-f6d7-cca37a1744bd"
      },
      "source": [
        "# check for null values\n",
        "uber_df.isna().apply(pd.value_counts)"
      ],
      "execution_count": 5,
      "outputs": [
        {
          "output_type": "execute_result",
          "data": {
            "text/html": [
              "<div>\n",
              "<style scoped>\n",
              "    .dataframe tbody tr th:only-of-type {\n",
              "        vertical-align: middle;\n",
              "    }\n",
              "\n",
              "    .dataframe tbody tr th {\n",
              "        vertical-align: top;\n",
              "    }\n",
              "\n",
              "    .dataframe thead th {\n",
              "        text-align: right;\n",
              "    }\n",
              "</style>\n",
              "<table border=\"1\" class=\"dataframe\">\n",
              "  <thead>\n",
              "    <tr style=\"text-align: right;\">\n",
              "      <th></th>\n",
              "      <th>Request id</th>\n",
              "      <th>Pickup point</th>\n",
              "      <th>Driver id</th>\n",
              "      <th>Status</th>\n",
              "      <th>Request timestamp</th>\n",
              "      <th>Drop timestamp</th>\n",
              "    </tr>\n",
              "  </thead>\n",
              "  <tbody>\n",
              "    <tr>\n",
              "      <th>False</th>\n",
              "      <td>6745.0</td>\n",
              "      <td>6745.0</td>\n",
              "      <td>4095</td>\n",
              "      <td>6745.0</td>\n",
              "      <td>6745.0</td>\n",
              "      <td>2831</td>\n",
              "    </tr>\n",
              "    <tr>\n",
              "      <th>True</th>\n",
              "      <td>NaN</td>\n",
              "      <td>NaN</td>\n",
              "      <td>2650</td>\n",
              "      <td>NaN</td>\n",
              "      <td>NaN</td>\n",
              "      <td>3914</td>\n",
              "    </tr>\n",
              "  </tbody>\n",
              "</table>\n",
              "</div>"
            ],
            "text/plain": [
              "       Request id  Pickup point  ...  Request timestamp  Drop timestamp\n",
              "False      6745.0        6745.0  ...             6745.0            2831\n",
              "True          NaN           NaN  ...                NaN            3914\n",
              "\n",
              "[2 rows x 6 columns]"
            ]
          },
          "metadata": {
            "tags": []
          },
          "execution_count": 5
        }
      ]
    },
    {
      "cell_type": "markdown",
      "metadata": {
        "id": "n3FPKx0VCFBy"
      },
      "source": [
        "You can also use:\n",
        "```\n",
        "uber_df.isnull().sum()\n",
        "```\n",
        "or\n",
        "```\n",
        "uber_df.isna().sum()\n",
        "```"
      ]
    },
    {
      "cell_type": "markdown",
      "metadata": {
        "id": "_T1r-YRwGwOI"
      },
      "source": [
        "So we have:\n",
        "1. 2650 missing values in **Driver id** column.\n",
        "2. 3914 missing values in **Drop timestamp** column."
      ]
    },
    {
      "cell_type": "markdown",
      "metadata": {
        "id": "dZkAfkS7FACC"
      },
      "source": [
        "## 3.3 Transform Datetime columns to Uniform Datetime format"
      ]
    },
    {
      "cell_type": "code",
      "metadata": {
        "id": "FwRr1rL0DqMC"
      },
      "source": [
        "# transform datetime columns\n",
        "uber_df['Request timestamp'] = uber_df['Request timestamp'].apply(lambda x:\n",
        "                                        pd.to_datetime(x))\n",
        "uber_df['Drop timestamp'] = uber_df['Drop timestamp'].apply(lambda x:\n",
        "                                        pd.to_datetime(x))"
      ],
      "execution_count": 6,
      "outputs": []
    },
    {
      "cell_type": "code",
      "metadata": {
        "colab": {
          "base_uri": "https://localhost:8080/",
          "height": 204
        },
        "id": "bpHJIVBtFkS2",
        "outputId": "af1e3955-1f77-4c2a-f871-cd5a3b81ab6c"
      },
      "source": [
        "uber_df.head()"
      ],
      "execution_count": 7,
      "outputs": [
        {
          "output_type": "execute_result",
          "data": {
            "text/html": [
              "<div>\n",
              "<style scoped>\n",
              "    .dataframe tbody tr th:only-of-type {\n",
              "        vertical-align: middle;\n",
              "    }\n",
              "\n",
              "    .dataframe tbody tr th {\n",
              "        vertical-align: top;\n",
              "    }\n",
              "\n",
              "    .dataframe thead th {\n",
              "        text-align: right;\n",
              "    }\n",
              "</style>\n",
              "<table border=\"1\" class=\"dataframe\">\n",
              "  <thead>\n",
              "    <tr style=\"text-align: right;\">\n",
              "      <th></th>\n",
              "      <th>Request id</th>\n",
              "      <th>Pickup point</th>\n",
              "      <th>Driver id</th>\n",
              "      <th>Status</th>\n",
              "      <th>Request timestamp</th>\n",
              "      <th>Drop timestamp</th>\n",
              "    </tr>\n",
              "  </thead>\n",
              "  <tbody>\n",
              "    <tr>\n",
              "      <th>0</th>\n",
              "      <td>619</td>\n",
              "      <td>Airport</td>\n",
              "      <td>1.0</td>\n",
              "      <td>Trip Completed</td>\n",
              "      <td>2016-11-07 11:51:00</td>\n",
              "      <td>2016-11-07 13:00:00</td>\n",
              "    </tr>\n",
              "    <tr>\n",
              "      <th>1</th>\n",
              "      <td>867</td>\n",
              "      <td>Airport</td>\n",
              "      <td>1.0</td>\n",
              "      <td>Trip Completed</td>\n",
              "      <td>2016-11-07 17:57:00</td>\n",
              "      <td>2016-11-07 18:47:00</td>\n",
              "    </tr>\n",
              "    <tr>\n",
              "      <th>2</th>\n",
              "      <td>1807</td>\n",
              "      <td>City</td>\n",
              "      <td>1.0</td>\n",
              "      <td>Trip Completed</td>\n",
              "      <td>2016-12-07 09:17:00</td>\n",
              "      <td>2016-12-07 09:58:00</td>\n",
              "    </tr>\n",
              "    <tr>\n",
              "      <th>3</th>\n",
              "      <td>2532</td>\n",
              "      <td>Airport</td>\n",
              "      <td>1.0</td>\n",
              "      <td>Trip Completed</td>\n",
              "      <td>2016-12-07 21:08:00</td>\n",
              "      <td>2016-12-07 22:03:00</td>\n",
              "    </tr>\n",
              "    <tr>\n",
              "      <th>4</th>\n",
              "      <td>3112</td>\n",
              "      <td>City</td>\n",
              "      <td>1.0</td>\n",
              "      <td>Trip Completed</td>\n",
              "      <td>2016-07-13 08:33:16</td>\n",
              "      <td>2016-07-13 09:25:47</td>\n",
              "    </tr>\n",
              "  </tbody>\n",
              "</table>\n",
              "</div>"
            ],
            "text/plain": [
              "   Request id Pickup point  ...   Request timestamp      Drop timestamp\n",
              "0         619      Airport  ... 2016-11-07 11:51:00 2016-11-07 13:00:00\n",
              "1         867      Airport  ... 2016-11-07 17:57:00 2016-11-07 18:47:00\n",
              "2        1807         City  ... 2016-12-07 09:17:00 2016-12-07 09:58:00\n",
              "3        2532      Airport  ... 2016-12-07 21:08:00 2016-12-07 22:03:00\n",
              "4        3112         City  ... 2016-07-13 08:33:16 2016-07-13 09:25:47\n",
              "\n",
              "[5 rows x 6 columns]"
            ]
          },
          "metadata": {
            "tags": []
          },
          "execution_count": 7
        }
      ]
    },
    {
      "cell_type": "markdown",
      "metadata": {
        "id": "RARFvKhXINli"
      },
      "source": [
        "## 3.4 Remove Useless Column(s)"
      ]
    },
    {
      "cell_type": "markdown",
      "metadata": {
        "id": "ouukuJ11Iak0"
      },
      "source": [
        "**Noise:** It is something I don't need. Something that won't benefit me at all in my analysis."
      ]
    },
    {
      "cell_type": "code",
      "metadata": {
        "colab": {
          "base_uri": "https://localhost:8080/"
        },
        "id": "LKq3FYIzIitQ",
        "outputId": "2a39defa-d2c7-4c30-a83c-cc2521493fb3"
      },
      "source": [
        "# number of unique values per column\n",
        "uber_df.nunique()"
      ],
      "execution_count": 8,
      "outputs": [
        {
          "output_type": "execute_result",
          "data": {
            "text/plain": [
              "Request id           6745\n",
              "Pickup point            2\n",
              "Driver id             300\n",
              "Status                  3\n",
              "Request timestamp    5618\n",
              "Drop timestamp       2598\n",
              "dtype: int64"
            ]
          },
          "metadata": {
            "tags": []
          },
          "execution_count": 8
        }
      ]
    },
    {
      "cell_type": "markdown",
      "metadata": {
        "id": "Za9HO62TIp0W"
      },
      "source": [
        "As we see, every **Request id** column contain a unique value so it is better to remove that useless column."
      ]
    },
    {
      "cell_type": "code",
      "metadata": {
        "id": "ZNBLVwb-JHvx"
      },
      "source": [
        "uber_df.drop('Request id', axis=1, inplace=True)"
      ],
      "execution_count": 9,
      "outputs": []
    },
    {
      "cell_type": "code",
      "metadata": {
        "colab": {
          "base_uri": "https://localhost:8080/",
          "height": 204
        },
        "id": "-ryMNe1SI3q2",
        "outputId": "c15a3091-a2bb-404f-9e65-916b64631e32"
      },
      "source": [
        "uber_df.head()"
      ],
      "execution_count": 10,
      "outputs": [
        {
          "output_type": "execute_result",
          "data": {
            "text/html": [
              "<div>\n",
              "<style scoped>\n",
              "    .dataframe tbody tr th:only-of-type {\n",
              "        vertical-align: middle;\n",
              "    }\n",
              "\n",
              "    .dataframe tbody tr th {\n",
              "        vertical-align: top;\n",
              "    }\n",
              "\n",
              "    .dataframe thead th {\n",
              "        text-align: right;\n",
              "    }\n",
              "</style>\n",
              "<table border=\"1\" class=\"dataframe\">\n",
              "  <thead>\n",
              "    <tr style=\"text-align: right;\">\n",
              "      <th></th>\n",
              "      <th>Pickup point</th>\n",
              "      <th>Driver id</th>\n",
              "      <th>Status</th>\n",
              "      <th>Request timestamp</th>\n",
              "      <th>Drop timestamp</th>\n",
              "    </tr>\n",
              "  </thead>\n",
              "  <tbody>\n",
              "    <tr>\n",
              "      <th>0</th>\n",
              "      <td>Airport</td>\n",
              "      <td>1.0</td>\n",
              "      <td>Trip Completed</td>\n",
              "      <td>2016-11-07 11:51:00</td>\n",
              "      <td>2016-11-07 13:00:00</td>\n",
              "    </tr>\n",
              "    <tr>\n",
              "      <th>1</th>\n",
              "      <td>Airport</td>\n",
              "      <td>1.0</td>\n",
              "      <td>Trip Completed</td>\n",
              "      <td>2016-11-07 17:57:00</td>\n",
              "      <td>2016-11-07 18:47:00</td>\n",
              "    </tr>\n",
              "    <tr>\n",
              "      <th>2</th>\n",
              "      <td>City</td>\n",
              "      <td>1.0</td>\n",
              "      <td>Trip Completed</td>\n",
              "      <td>2016-12-07 09:17:00</td>\n",
              "      <td>2016-12-07 09:58:00</td>\n",
              "    </tr>\n",
              "    <tr>\n",
              "      <th>3</th>\n",
              "      <td>Airport</td>\n",
              "      <td>1.0</td>\n",
              "      <td>Trip Completed</td>\n",
              "      <td>2016-12-07 21:08:00</td>\n",
              "      <td>2016-12-07 22:03:00</td>\n",
              "    </tr>\n",
              "    <tr>\n",
              "      <th>4</th>\n",
              "      <td>City</td>\n",
              "      <td>1.0</td>\n",
              "      <td>Trip Completed</td>\n",
              "      <td>2016-07-13 08:33:16</td>\n",
              "      <td>2016-07-13 09:25:47</td>\n",
              "    </tr>\n",
              "  </tbody>\n",
              "</table>\n",
              "</div>"
            ],
            "text/plain": [
              "  Pickup point  Driver id  ...   Request timestamp      Drop timestamp\n",
              "0      Airport        1.0  ... 2016-11-07 11:51:00 2016-11-07 13:00:00\n",
              "1      Airport        1.0  ... 2016-11-07 17:57:00 2016-11-07 18:47:00\n",
              "2         City        1.0  ... 2016-12-07 09:17:00 2016-12-07 09:58:00\n",
              "3      Airport        1.0  ... 2016-12-07 21:08:00 2016-12-07 22:03:00\n",
              "4         City        1.0  ... 2016-07-13 08:33:16 2016-07-13 09:25:47\n",
              "\n",
              "[5 rows x 5 columns]"
            ]
          },
          "metadata": {
            "tags": []
          },
          "execution_count": 10
        }
      ]
    },
    {
      "cell_type": "markdown",
      "metadata": {
        "id": "7xsrIh0WIteD"
      },
      "source": [
        "# 4. Numerical Data"
      ]
    },
    {
      "cell_type": "code",
      "metadata": {
        "colab": {
          "base_uri": "https://localhost:8080/",
          "height": 297
        },
        "id": "KBNvBT0kE2MV",
        "outputId": "8f8c66e6-61d6-445c-b3a1-ecbb5249fed9"
      },
      "source": [
        "# describe numerical data\n",
        "uber_df.describe()"
      ],
      "execution_count": 11,
      "outputs": [
        {
          "output_type": "execute_result",
          "data": {
            "text/html": [
              "<div>\n",
              "<style scoped>\n",
              "    .dataframe tbody tr th:only-of-type {\n",
              "        vertical-align: middle;\n",
              "    }\n",
              "\n",
              "    .dataframe tbody tr th {\n",
              "        vertical-align: top;\n",
              "    }\n",
              "\n",
              "    .dataframe thead th {\n",
              "        text-align: right;\n",
              "    }\n",
              "</style>\n",
              "<table border=\"1\" class=\"dataframe\">\n",
              "  <thead>\n",
              "    <tr style=\"text-align: right;\">\n",
              "      <th></th>\n",
              "      <th>Driver id</th>\n",
              "    </tr>\n",
              "  </thead>\n",
              "  <tbody>\n",
              "    <tr>\n",
              "      <th>count</th>\n",
              "      <td>4095.000000</td>\n",
              "    </tr>\n",
              "    <tr>\n",
              "      <th>mean</th>\n",
              "      <td>149.501343</td>\n",
              "    </tr>\n",
              "    <tr>\n",
              "      <th>std</th>\n",
              "      <td>86.051994</td>\n",
              "    </tr>\n",
              "    <tr>\n",
              "      <th>min</th>\n",
              "      <td>1.000000</td>\n",
              "    </tr>\n",
              "    <tr>\n",
              "      <th>25%</th>\n",
              "      <td>75.000000</td>\n",
              "    </tr>\n",
              "    <tr>\n",
              "      <th>50%</th>\n",
              "      <td>149.000000</td>\n",
              "    </tr>\n",
              "    <tr>\n",
              "      <th>75%</th>\n",
              "      <td>224.000000</td>\n",
              "    </tr>\n",
              "    <tr>\n",
              "      <th>max</th>\n",
              "      <td>300.000000</td>\n",
              "    </tr>\n",
              "  </tbody>\n",
              "</table>\n",
              "</div>"
            ],
            "text/plain": [
              "         Driver id\n",
              "count  4095.000000\n",
              "mean    149.501343\n",
              "std      86.051994\n",
              "min       1.000000\n",
              "25%      75.000000\n",
              "50%     149.000000\n",
              "75%     224.000000\n",
              "max     300.000000"
            ]
          },
          "metadata": {
            "tags": []
          },
          "execution_count": 11
        }
      ]
    },
    {
      "cell_type": "markdown",
      "metadata": {
        "id": "lo4ra2OtFsd0"
      },
      "source": [
        "## 4.1 Histogram\n",
        "\n",
        "* Show distribution\n",
        "* Help in outlier detection"
      ]
    },
    {
      "cell_type": "code",
      "metadata": {
        "colab": {
          "base_uri": "https://localhost:8080/",
          "height": 322
        },
        "id": "7EESGCnsFzOI",
        "outputId": "a940aa93-dc54-4137-fd5d-d0f449799d9e"
      },
      "source": [
        "uber_df['Driver id'].hist(figsize=(10, 5))\n",
        "plt.show()"
      ],
      "execution_count": 12,
      "outputs": [
        {
          "output_type": "display_data",
          "data": {
            "image/png": "[encoded data removed]",
            "text/plain": [
              "<Figure size 720x360 with 1 Axes>"
            ]
          },
          "metadata": {
            "tags": [],
            "image/png": {
              "width": 603,
              "height": 305
            },
            "needs_background": "light"
          }
        }
      ]
    },
    {
      "cell_type": "code",
      "metadata": {
        "colab": {
          "base_uri": "https://localhost:8080/",
          "height": 338
        },
        "id": "JVeYVW3vLLQo",
        "outputId": "f4de82e1-561a-4cac-fa68-5a285bb22621"
      },
      "source": [
        "# we coujld also see a continuous line of the distribtion using seaborn distplot\n",
        "plt.figure(figsize=(10, 5))\n",
        "sns.distplot(uber_df['Driver id'])\n",
        "plt.show()"
      ],
      "execution_count": 13,
      "outputs": [
        {
          "output_type": "display_data",
          "data": {
            "image/png": "[encoded data removed]",
            "text/plain": [
              "<Figure size 720x360 with 1 Axes>"
            ]
          },
          "metadata": {
            "tags": [],
            "image/png": {
              "width": 636,
              "height": 321
            },
            "needs_background": "light"
          }
        }
      ]
    },
    {
      "cell_type": "markdown",
      "metadata": {
        "id": "Cr81_vEGKPRK"
      },
      "source": [
        "Drivers are uniformly distributed so all of them are nearly working equally."
      ]
    },
    {
      "cell_type": "markdown",
      "metadata": {
        "id": "1B2DEnu-M3Uz"
      },
      "source": [
        "## 4.2 Histogram (Show Category)"
      ]
    },
    {
      "cell_type": "markdown",
      "metadata": {
        "id": "ManVYfnANQRy"
      },
      "source": [
        "It would be useful to faslty check the distribution per different cateogries in each of our categorical variables.\n",
        "\n",
        "Checking categories relations to the **Driver Id** Distribution to check if some drivers are dominating certain trips, or if some trips are not completed by some drivers. This could be useful."
      ]
    },
    {
      "cell_type": "markdown",
      "metadata": {
        "id": "wH7ziVNhOxIL"
      },
      "source": [
        "### 4.2.1 Driver id & Pickup point"
      ]
    },
    {
      "cell_type": "code",
      "metadata": {
        "colab": {
          "base_uri": "https://localhost:8080/",
          "height": 284
        },
        "id": "uD6FLDrENhHO",
        "outputId": "b19fefcb-fda9-449c-aaf8-ad905b220471"
      },
      "source": [
        "sns.histplot(data=uber_df, x=uber_df['Driver id'], hue='Pickup point',\n",
        "             multiple='stack')\n",
        "plt.show()"
      ],
      "execution_count": 14,
      "outputs": [
        {
          "output_type": "display_data",
          "data": {
            "image/png": "[encoded data removed]",
            "text/plain": [
              "<Figure size 432x288 with 1 Axes>"
            ]
          },
          "metadata": {
            "tags": [],
            "image/png": {
              "width": 395,
              "height": 267
            },
            "needs_background": "light"
          }
        }
      ]
    },
    {
      "cell_type": "markdown",
      "metadata": {
        "id": "2AOXOG_wONj-"
      },
      "source": [
        "**Also uniform distribution. But why not check the value counts of `Pickup Point`?**"
      ]
    },
    {
      "cell_type": "code",
      "metadata": {
        "colab": {
          "base_uri": "https://localhost:8080/"
        },
        "id": "k0cI2s-_OdiA",
        "outputId": "b766ce2d-de30-423d-c357-01798ad903ef"
      },
      "source": [
        "uber_df['Pickup point'].value_counts()"
      ],
      "execution_count": 15,
      "outputs": [
        {
          "output_type": "execute_result",
          "data": {
            "text/plain": [
              "City       3507\n",
              "Airport    3238\n",
              "Name: Pickup point, dtype: int64"
            ]
          },
          "metadata": {
            "tags": []
          },
          "execution_count": 15
        }
      ]
    },
    {
      "cell_type": "markdown",
      "metadata": {
        "id": "EFmkVO4IOjEp"
      },
      "source": [
        "**They are very close to each other. There is nothing to detect here as far as I think.**"
      ]
    },
    {
      "cell_type": "markdown",
      "metadata": {
        "id": "zFfJ6spsO4Cm"
      },
      "source": [
        "### 4.2.2 Driver id & Status"
      ]
    },
    {
      "cell_type": "code",
      "metadata": {
        "colab": {
          "base_uri": "https://localhost:8080/",
          "height": 284
        },
        "id": "HoXnc7Y3N66b",
        "outputId": "5e7a4e7f-f4dd-4b2d-f0e6-17bfad890c08"
      },
      "source": [
        "sns.histplot(data=uber_df, x=uber_df['Driver id'], hue='Status',\n",
        "             multiple='stack')\n",
        "plt.show()"
      ],
      "execution_count": 16,
      "outputs": [
        {
          "output_type": "display_data",
          "data": {
            "image/png": "[encoded data removed]",
            "text/plain": [
              "<Figure size 432x288 with 1 Axes>"
            ]
          },
          "metadata": {
            "tags": [],
            "image/png": {
              "width": 395,
              "height": 267
            },
            "needs_background": "light"
          }
        }
      ]
    },
    {
      "cell_type": "markdown",
      "metadata": {
        "id": "Hkd27A5lPwKa"
      },
      "source": [
        "**So it seems that `Driver id` don't have any unique trend. All drivers seem similar.**"
      ]
    },
    {
      "cell_type": "markdown",
      "metadata": {
        "id": "tV9BkBlLQN0r"
      },
      "source": [
        "## 4.3 Boxplot\n",
        "\n",
        "* Show variance (5 summary statistics)\n",
        "* Help in outlier detection"
      ]
    },
    {
      "cell_type": "code",
      "metadata": {
        "colab": {
          "base_uri": "https://localhost:8080/",
          "height": 338
        },
        "id": "zFUdl7_EQlhw",
        "outputId": "9f373ba9-3c72-45f9-ccc8-a37deb4b0b86"
      },
      "source": [
        "plt.figure(figsize=(10, 5))\n",
        "sns.boxplot(uber_df['Driver id'])\n",
        "plt.show()"
      ],
      "execution_count": 17,
      "outputs": [
        {
          "output_type": "display_data",
          "data": {
            "image/png": "[encoded data removed]",
            "text/plain": [
              "<Figure size 720x360 with 1 Axes>"
            ]
          },
          "metadata": {
            "tags": [],
            "image/png": {
              "width": 572,
              "height": 321
            },
            "needs_background": "light"
          }
        }
      ]
    },
    {
      "cell_type": "markdown",
      "metadata": {
        "id": "ZtRam5LhRc8m"
      },
      "source": [
        "**Nothing fancy. Everything looks normal, and there are no outliers.**"
      ]
    },
    {
      "cell_type": "markdown",
      "metadata": {
        "id": "W3AJnoKmECFB"
      },
      "source": [
        "# 5 Categorical Data"
      ]
    },
    {
      "cell_type": "markdown",
      "metadata": {
        "id": "OhqYfkdZTQCH"
      },
      "source": [
        "## 5.1 Bar Plot"
      ]
    },
    {
      "cell_type": "markdown",
      "metadata": {
        "id": "ylEf_iqlVvC6"
      },
      "source": [
        "### 5.1.1 Pickup point"
      ]
    },
    {
      "cell_type": "code",
      "metadata": {
        "colab": {
          "base_uri": "https://localhost:8080/",
          "height": 268
        },
        "id": "a-GLM3-aUg1e",
        "outputId": "26760445-8340-4948-c76c-2afe7f62c839"
      },
      "source": [
        "sns.barplot(x=uber_df['Pickup point'].value_counts().index,\n",
        "            y=uber_df['Pickup point'].value_counts().values)\n",
        "plt.show()"
      ],
      "execution_count": 18,
      "outputs": [
        {
          "output_type": "display_data",
          "data": {
            "image/png": "[encoded data removed]",
            "text/plain": [
              "<Figure size 432x288 with 1 Axes>"
            ]
          },
          "metadata": {
            "tags": [],
            "image/png": {
              "width": 386,
              "height": 251
            },
            "needs_background": "light"
          }
        }
      ]
    },
    {
      "cell_type": "markdown",
      "metadata": {
        "id": "sWcMqZCoVdwh"
      },
      "source": [
        "**City trips are a little bit more than Airport trips, but not a big considerable difference.**"
      ]
    },
    {
      "cell_type": "markdown",
      "metadata": {
        "id": "9CI03sdlV36I"
      },
      "source": [
        "### 5.1.2 Status"
      ]
    },
    {
      "cell_type": "code",
      "metadata": {
        "colab": {
          "base_uri": "https://localhost:8080/",
          "height": 268
        },
        "id": "xvGHDaQdV6SC",
        "outputId": "61311688-601b-40e5-ca87-ccc95aa59b1a"
      },
      "source": [
        "sns.barplot(x=uber_df['Status'].value_counts().index,\n",
        "            y=uber_df['Status'].value_counts().values)\n",
        "plt.show()"
      ],
      "execution_count": 19,
      "outputs": [
        {
          "output_type": "display_data",
          "data": {
            "image/png": "[encoded data removed]",
            "text/plain": [
              "<Figure size 432x288 with 1 Axes>"
            ]
          },
          "metadata": {
            "tags": [],
            "image/png": {
              "width": 386,
              "height": 251
            },
            "needs_background": "light"
          }
        }
      ]
    },
    {
      "cell_type": "markdown",
      "metadata": {
        "id": "CZuc8hC5WCHb"
      },
      "source": [
        "**There a lot of trips that were waiting for available cars. Really too much. We should do more investigation to solve this problem in the next section by using the `datetime` features.**"
      ]
    },
    {
      "cell_type": "markdown",
      "metadata": {
        "id": "MtnzUawGXAar"
      },
      "source": [
        "## 5.2 Pie Chart"
      ]
    },
    {
      "cell_type": "markdown",
      "metadata": {
        "id": "-94m_wugYe4L"
      },
      "source": [
        "### 5.2.1 Pickup point"
      ]
    },
    {
      "cell_type": "code",
      "metadata": {
        "colab": {
          "base_uri": "https://localhost:8080/",
          "height": 248
        },
        "id": "MG8ZI5f0XJAB",
        "outputId": "ae73900b-ac69-42c0-b405-ae990a8aa5e1"
      },
      "source": [
        "plt.pie(uber_df['Pickup point'].value_counts().values,\n",
        "        labels=uber_df['Pickup point'].value_counts().index,\n",
        "        autopct='%1.1f%%')\n",
        "plt.show()"
      ],
      "execution_count": 20,
      "outputs": [
        {
          "output_type": "display_data",
          "data": {
            "image/png": "[encoded data removed]",
            "text/plain": [
              "<Figure size 432x288 with 1 Axes>"
            ]
          },
          "metadata": {
            "tags": [],
            "image/png": {
              "width": 231,
              "height": 231
            }
          }
        }
      ]
    },
    {
      "cell_type": "markdown",
      "metadata": {
        "id": "RCpxCGnjXFsD"
      },
      "source": [
        "### 5.2.2 Status"
      ]
    },
    {
      "cell_type": "code",
      "metadata": {
        "colab": {
          "base_uri": "https://localhost:8080/",
          "height": 248
        },
        "id": "H3K-B-4BYmAE",
        "outputId": "a0ba2db0-27f0-42a2-e1e6-c5b9e5bde44d"
      },
      "source": [
        "plt.pie(uber_df['Status'].value_counts().values,\n",
        "        labels=uber_df['Status'].value_counts().index,\n",
        "        autopct='%1.1f%%')\n",
        "plt.show()"
      ],
      "execution_count": 21,
      "outputs": [
        {
          "output_type": "display_data",
          "data": {
            "image/png": "[encoded data removed]",
            "text/plain": [
              "<Figure size 432x288 with 1 Axes>"
            ]
          },
          "metadata": {
            "tags": [],
            "image/png": {
              "width": 316,
              "height": 231
            }
          }
        }
      ]
    },
    {
      "cell_type": "markdown",
      "metadata": {
        "id": "tD_1CyHCYzAV"
      },
      "source": [
        "**Something new here appears. About 60% of all trips are waiting for available cars or cancelled. Again this should be further investigated using other features to try solving this problem.**"
      ]
    },
    {
      "cell_type": "markdown",
      "metadata": {
        "id": "lowrkBDxIZnK"
      },
      "source": [
        "# 6. `Datetime` Features"
      ]
    },
    {
      "cell_type": "markdown",
      "metadata": {
        "id": "_8Shnw4srDjY"
      },
      "source": [
        "## 6.1 Extract Hours"
      ]
    },
    {
      "cell_type": "markdown",
      "metadata": {
        "id": "4cwf223cZu5X"
      },
      "source": [
        "To make `Request timestamp` features more useful, we will extract hour from it which could help us solve the problem we saw of non-available cars. That problem could be solved using the `Request timestamp`, so I will not use the `Drop timestamp`."
      ]
    },
    {
      "cell_type": "code",
      "metadata": {
        "id": "-zNeCsw9Fobh",
        "colab": {
          "base_uri": "https://localhost:8080/",
          "height": 204
        },
        "outputId": "b0d69a15-f843-4bdc-af55-ccfc4fc87bd4"
      },
      "source": [
        "# extract hours from request timestamp\n",
        "uber_df['Request hour'] = uber_df['Request timestamp'].dt.hour\n",
        "uber_df.head()"
      ],
      "execution_count": 22,
      "outputs": [
        {
          "output_type": "execute_result",
          "data": {
            "text/html": [
              "<div>\n",
              "<style scoped>\n",
              "    .dataframe tbody tr th:only-of-type {\n",
              "        vertical-align: middle;\n",
              "    }\n",
              "\n",
              "    .dataframe tbody tr th {\n",
              "        vertical-align: top;\n",
              "    }\n",
              "\n",
              "    .dataframe thead th {\n",
              "        text-align: right;\n",
              "    }\n",
              "</style>\n",
              "<table border=\"1\" class=\"dataframe\">\n",
              "  <thead>\n",
              "    <tr style=\"text-align: right;\">\n",
              "      <th></th>\n",
              "      <th>Pickup point</th>\n",
              "      <th>Driver id</th>\n",
              "      <th>Status</th>\n",
              "      <th>Request timestamp</th>\n",
              "      <th>Drop timestamp</th>\n",
              "      <th>Request hour</th>\n",
              "    </tr>\n",
              "  </thead>\n",
              "  <tbody>\n",
              "    <tr>\n",
              "      <th>0</th>\n",
              "      <td>Airport</td>\n",
              "      <td>1.0</td>\n",
              "      <td>Trip Completed</td>\n",
              "      <td>2016-11-07 11:51:00</td>\n",
              "      <td>2016-11-07 13:00:00</td>\n",
              "      <td>11</td>\n",
              "    </tr>\n",
              "    <tr>\n",
              "      <th>1</th>\n",
              "      <td>Airport</td>\n",
              "      <td>1.0</td>\n",
              "      <td>Trip Completed</td>\n",
              "      <td>2016-11-07 17:57:00</td>\n",
              "      <td>2016-11-07 18:47:00</td>\n",
              "      <td>17</td>\n",
              "    </tr>\n",
              "    <tr>\n",
              "      <th>2</th>\n",
              "      <td>City</td>\n",
              "      <td>1.0</td>\n",
              "      <td>Trip Completed</td>\n",
              "      <td>2016-12-07 09:17:00</td>\n",
              "      <td>2016-12-07 09:58:00</td>\n",
              "      <td>9</td>\n",
              "    </tr>\n",
              "    <tr>\n",
              "      <th>3</th>\n",
              "      <td>Airport</td>\n",
              "      <td>1.0</td>\n",
              "      <td>Trip Completed</td>\n",
              "      <td>2016-12-07 21:08:00</td>\n",
              "      <td>2016-12-07 22:03:00</td>\n",
              "      <td>21</td>\n",
              "    </tr>\n",
              "    <tr>\n",
              "      <th>4</th>\n",
              "      <td>City</td>\n",
              "      <td>1.0</td>\n",
              "      <td>Trip Completed</td>\n",
              "      <td>2016-07-13 08:33:16</td>\n",
              "      <td>2016-07-13 09:25:47</td>\n",
              "      <td>8</td>\n",
              "    </tr>\n",
              "  </tbody>\n",
              "</table>\n",
              "</div>"
            ],
            "text/plain": [
              "  Pickup point  Driver id  ...      Drop timestamp Request hour\n",
              "0      Airport        1.0  ... 2016-11-07 13:00:00           11\n",
              "1      Airport        1.0  ... 2016-11-07 18:47:00           17\n",
              "2         City        1.0  ... 2016-12-07 09:58:00            9\n",
              "3      Airport        1.0  ... 2016-12-07 22:03:00           21\n",
              "4         City        1.0  ... 2016-07-13 09:25:47            8\n",
              "\n",
              "[5 rows x 6 columns]"
            ]
          },
          "metadata": {
            "tags": []
          },
          "execution_count": 22
        }
      ]
    },
    {
      "cell_type": "markdown",
      "metadata": {
        "id": "JupUwhyPrj5j"
      },
      "source": [
        "## 6.2 Plot `hour` distribution"
      ]
    },
    {
      "cell_type": "code",
      "metadata": {
        "colab": {
          "base_uri": "https://localhost:8080/",
          "height": 377
        },
        "id": "cELsQ-DqaS3k",
        "outputId": "220c816e-90f9-4ddd-93d2-f2b4fef2e5e6"
      },
      "source": [
        "# let us draw a histogram to see the hours with more requests\n",
        "plt.figure(figsize=(8, 6))\n",
        "plt.hist(uber_df['Request hour'], edgecolor='black', bins=24)\n",
        "plt.show()"
      ],
      "execution_count": 23,
      "outputs": [
        {
          "output_type": "display_data",
          "data": {
            "image/png": "[encoded data removed]",
            "text/plain": [
              "<Figure size 576x432 with 1 Axes>"
            ]
          },
          "metadata": {
            "tags": [],
            "image/png": {
              "width": 491,
              "height": 360
            },
            "needs_background": "light"
          }
        }
      ]
    },
    {
      "cell_type": "markdown",
      "metadata": {
        "id": "XL7p5XcrcnQR"
      },
      "source": [
        "Rush hours are:\n",
        "* From 6 to 10 am\n",
        "* From 5 to 10 pm"
      ]
    },
    {
      "cell_type": "markdown",
      "metadata": {
        "id": "oqUJ_283dxeH"
      },
      "source": [
        "## 6.3 Feature Engineering (Transform Hours to Times of day)\n",
        "\n",
        "Therefore we could make a function that transform that `Request hour` feature to categorical feature.\n",
        "\n",
        "1. Early Morning ---> 12 am to 5 am\n",
        "2. Morning ---> 5 am to 10 am\n",
        "3. Day ---> 10 am to 5 pm\n",
        "4. Night ---> 5 pm to 10 pm\n",
        "5. Late Night ---> 10 pm to 12 am\n"
      ]
    },
    {
      "cell_type": "code",
      "metadata": {
        "id": "xNsKb7CUcHQ1"
      },
      "source": [
        "def time_period(time):\n",
        "    if time < 5:\n",
        "        return 'Early Morning'\n",
        "    elif time < 10:\n",
        "        return 'Morning'\n",
        "    elif time < 17:\n",
        "        return 'Day'\n",
        "    elif time < 22:\n",
        "        return 'Night'\n",
        "    else:\n",
        "        return 'Late Night'"
      ],
      "execution_count": 24,
      "outputs": []
    },
    {
      "cell_type": "code",
      "metadata": {
        "colab": {
          "base_uri": "https://localhost:8080/",
          "height": 204
        },
        "id": "cYGeXypifOCv",
        "outputId": "54727294-a307-46b6-d909-6ef561b886bb"
      },
      "source": [
        "uber_df['Time period'] = uber_df['Request hour'].apply(lambda x: time_period(x))\n",
        "uber_df.head()"
      ],
      "execution_count": 25,
      "outputs": [
        {
          "output_type": "execute_result",
          "data": {
            "text/html": [
              "<div>\n",
              "<style scoped>\n",
              "    .dataframe tbody tr th:only-of-type {\n",
              "        vertical-align: middle;\n",
              "    }\n",
              "\n",
              "    .dataframe tbody tr th {\n",
              "        vertical-align: top;\n",
              "    }\n",
              "\n",
              "    .dataframe thead th {\n",
              "        text-align: right;\n",
              "    }\n",
              "</style>\n",
              "<table border=\"1\" class=\"dataframe\">\n",
              "  <thead>\n",
              "    <tr style=\"text-align: right;\">\n",
              "      <th></th>\n",
              "      <th>Pickup point</th>\n",
              "      <th>Driver id</th>\n",
              "      <th>Status</th>\n",
              "      <th>Request timestamp</th>\n",
              "      <th>Drop timestamp</th>\n",
              "      <th>Request hour</th>\n",
              "      <th>Time period</th>\n",
              "    </tr>\n",
              "  </thead>\n",
              "  <tbody>\n",
              "    <tr>\n",
              "      <th>0</th>\n",
              "      <td>Airport</td>\n",
              "      <td>1.0</td>\n",
              "      <td>Trip Completed</td>\n",
              "      <td>2016-11-07 11:51:00</td>\n",
              "      <td>2016-11-07 13:00:00</td>\n",
              "      <td>11</td>\n",
              "      <td>Day</td>\n",
              "    </tr>\n",
              "    <tr>\n",
              "      <th>1</th>\n",
              "      <td>Airport</td>\n",
              "      <td>1.0</td>\n",
              "      <td>Trip Completed</td>\n",
              "      <td>2016-11-07 17:57:00</td>\n",
              "      <td>2016-11-07 18:47:00</td>\n",
              "      <td>17</td>\n",
              "      <td>Night</td>\n",
              "    </tr>\n",
              "    <tr>\n",
              "      <th>2</th>\n",
              "      <td>City</td>\n",
              "      <td>1.0</td>\n",
              "      <td>Trip Completed</td>\n",
              "      <td>2016-12-07 09:17:00</td>\n",
              "      <td>2016-12-07 09:58:00</td>\n",
              "      <td>9</td>\n",
              "      <td>Morning</td>\n",
              "    </tr>\n",
              "    <tr>\n",
              "      <th>3</th>\n",
              "      <td>Airport</td>\n",
              "      <td>1.0</td>\n",
              "      <td>Trip Completed</td>\n",
              "      <td>2016-12-07 21:08:00</td>\n",
              "      <td>2016-12-07 22:03:00</td>\n",
              "      <td>21</td>\n",
              "      <td>Night</td>\n",
              "    </tr>\n",
              "    <tr>\n",
              "      <th>4</th>\n",
              "      <td>City</td>\n",
              "      <td>1.0</td>\n",
              "      <td>Trip Completed</td>\n",
              "      <td>2016-07-13 08:33:16</td>\n",
              "      <td>2016-07-13 09:25:47</td>\n",
              "      <td>8</td>\n",
              "      <td>Morning</td>\n",
              "    </tr>\n",
              "  </tbody>\n",
              "</table>\n",
              "</div>"
            ],
            "text/plain": [
              "  Pickup point  Driver id  ... Request hour Time period\n",
              "0      Airport        1.0  ...           11         Day\n",
              "1      Airport        1.0  ...           17       Night\n",
              "2         City        1.0  ...            9     Morning\n",
              "3      Airport        1.0  ...           21       Night\n",
              "4         City        1.0  ...            8     Morning\n",
              "\n",
              "[5 rows x 7 columns]"
            ]
          },
          "metadata": {
            "tags": []
          },
          "execution_count": 25
        }
      ]
    },
    {
      "cell_type": "code",
      "metadata": {
        "colab": {
          "base_uri": "https://localhost:8080/",
          "height": 377
        },
        "id": "-c9jW-M6fbEo",
        "outputId": "af076774-add1-4c6e-ead1-300492895f79"
      },
      "source": [
        "plt.figure(figsize=(8, 6))\n",
        "sns.barplot(x=uber_df['Time period'].value_counts().index,\n",
        "            y=uber_df['Time period'].value_counts().values)\n",
        "plt.show()"
      ],
      "execution_count": 26,
      "outputs": [
        {
          "output_type": "display_data",
          "data": {
            "image/png": "[encoded data removed]",
            "text/plain": [
              "<Figure size 576x432 with 1 Axes>"
            ]
          },
          "metadata": {
            "tags": [],
            "image/png": {
              "width": 498,
              "height": 360
            },
            "needs_background": "light"
          }
        }
      ]
    },
    {
      "cell_type": "markdown",
      "metadata": {
        "id": "Ba2A7zY2gkNq"
      },
      "source": [
        "**Highest demand is at Night, and in the Morning. Therefore we could solve the previous waiting problem by increasing the number of cars in these rush hours (Night, and Morning) while decreasing them in less rush hours to serve people when they are need of service.**"
      ]
    },
    {
      "cell_type": "code",
      "metadata": {
        "id": "9RdKFvafhQ7Z"
      },
      "source": [
        ""
      ],
      "execution_count": 26,
      "outputs": []
    }
  ]
}